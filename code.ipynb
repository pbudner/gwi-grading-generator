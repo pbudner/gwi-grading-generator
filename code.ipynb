{
 "metadata": {
  "language_info": {
   "codemirror_mode": {
    "name": "ipython",
    "version": 3
   },
   "file_extension": ".py",
   "mimetype": "text/x-python",
   "name": "python",
   "nbconvert_exporter": "python",
   "pygments_lexer": "ipython3",
   "version": "3.8.5-final"
  },
  "orig_nbformat": 2,
  "kernelspec": {
   "name": "python3",
   "display_name": "Python 3.8.5 64-bit ('base': conda)",
   "metadata": {
    "interpreter": {
     "hash": "474bfce11c644015c001008998782e702aab7620e809c8111d52d7efa51dfc21"
    }
   }
  }
 },
 "nbformat": 4,
 "nbformat_minor": 2,
 "cells": [
  {
   "source": [
    "# Grundlagen Wirtschaftsinformatik – Case Study\n",
    "Hier könnt ihr interaktiv euren Code eingeben und ausprobieren. Nützliche Funktionen & Module zur Bearbeitung der Case Study findet ihr hier:\n",
    "- https://www.w3schools.com/python/ref_random_randint.asp\n",
    "- https://www.w3schools.com/python/ref_string_strip.asp\n",
    "- https://www.w3schools.com/python/python_file_open.asp\n",
    "- https://www.w3schools.com/python/python_file_write.asp"
   ],
   "cell_type": "markdown",
   "metadata": {}
  },
  {
   "cell_type": "code",
   "execution_count": null,
   "metadata": {},
   "outputs": [],
   "source": [
    "# führt diesen Code-Block initial aus, um die Daten in euer Repository zu laden\n",
    "import requests\n",
    "import os\n",
    "os.mkdir('data')\n",
    "r = requests.get('https://raw.githubusercontent.com/pbudner/gwi-grading-generator/master/data/students.txt')\n",
    "f = open('data/students.txt', 'w')\n",
    "f.write(r.text)\n",
    "f.close()"
   ]
  },
  {
   "source": [
    "## Lösung"
   ],
   "cell_type": "markdown",
   "metadata": {}
  },
  {
   "cell_type": "code",
   "execution_count": 13,
   "metadata": {},
   "outputs": [],
   "source": [
    "import random # hilfreich, um Zufallszahlen zu generieren\n",
    "# hier kommt euer Code rein"
   ]
  }
 ]
}