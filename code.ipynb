{
 "metadata": {
  "language_info": {
   "codemirror_mode": {
    "name": "ipython",
    "version": 3
   },
   "file_extension": ".py",
   "mimetype": "text/x-python",
   "name": "python",
   "nbconvert_exporter": "python",
   "pygments_lexer": "ipython3",
   "version": "3.8.5-final"
  },
  "orig_nbformat": 2,
  "kernelspec": {
   "name": "python3",
   "display_name": "Python 3.8.5 64-bit ('base': conda)",
   "metadata": {
    "interpreter": {
     "hash": "474bfce11c644015c001008998782e702aab7620e809c8111d52d7efa51dfc21"
    }
   }
  }
 },
 "nbformat": 4,
 "nbformat_minor": 2,
 "cells": [
  {
   "source": [
    "# Case Study – Grundlagen Wirtschaftsinformatik\n",
    "Dieses Repository dient als Grundlage für die praktische Case Study im Kurs 'Grundlagen der Wirtschaftsinformatik' an der Universität zu Köln.\n",
    "\n",
    "Innerhalb dieses Repositories befindet sich im Ordner _data_ die Datei _students.txt_. In der pro Zeile ein zufällig erzeugter Studentenname abgelegt ist. Falls das Notebook dieses Repositorys in Google CoLab ausgecheckt wird, muss zudem der erste Code-Block ausgeführt werden, um die Daten (_students.txt_) zu erhalten.\n",
    "\n",
    "## Problemstellung\n",
    "Es soll nun ein Code entwickelt werden, der die Datei einliest und für jeden Student eine Schulnote zwischen 1 und 6 würfelt. Das Ergebnis soll schließlich in eine neue CSV-Datei (mit dem Komma (,) als Trennzeichen) mit dem Namen _noten.csv_ abgespeichert werden. Die Zieldatei sollte dann in etwa so aussehen:\n",
    "```\n",
    "name,note\n",
    "Max Mustermann,1\n",
    "Thomas Müller,4\n",
    "...\n",
    "```\n",
    "Die CSV-Datei kann schließlich dann zur weiteren Verarbeitung (bspw. Import in das Benotungssystem der Universität) genutzt werden. \n",
    "\n",
    "## Lösung\n",
    "Die Lösung gilt es nun zu erarbeiten. Ihr könnt dafür das Jupyter-Notebook _code.ipynb_ aufrufen und dort den entsprechenden Code einfügen und ausführen.\n",
    "\n",
    "Viel Spaß!\n",
    "\n",
    "## Tipp\n",
    "Beim einlesen der Zeilen in Dateien liest Python zusätzlich den Zeilenumbruch (\\n) mit ein, den ihr entfernen müsst, wenn ihr mit dem Studentennamen arbeitet."
   ],
   "cell_type": "markdown",
   "metadata": {}
  },
  {
   "source": [
    "# Aufgabe\n",
    "Hier könnt ihr interaktiv euren Code eingeben und ausprobieren. Nützliche Funktionen & Module zur Bearbeitung der Case Study findet ihr hier:\n",
    "- https://www.w3schools.com/python/ref_random_randint.asp\n",
    "- https://www.w3schools.com/python/ref_string_strip.asp\n",
    "- https://www.w3schools.com/python/python_file_open.asp\n",
    "- https://www.w3schools.com/python/python_file_write.asp"
   ],
   "cell_type": "markdown",
   "metadata": {}
  },
  {
   "cell_type": "code",
   "execution_count": null,
   "metadata": {},
   "outputs": [],
   "source": [
    "# führt diesen Code-Block initial aus, um die Daten in euer Repository zu laden\n",
    "import requests\n",
    "import os\n",
    "os.mkdir('data')\n",
    "r = requests.get('https://raw.githubusercontent.com/pbudner/gwi-grading-generator/master/data/students.txt')\n",
    "f = open('data/students.txt', 'w')\n",
    "f.write(r.text)\n",
    "f.close()"
   ]
  },
  {
   "source": [
    "## Lösung"
   ],
   "cell_type": "markdown",
   "metadata": {}
  },
  {
   "cell_type": "code",
   "execution_count": 13,
   "metadata": {},
   "outputs": [],
   "source": [
    "import random # hilfreich, um Zufallszahlen zu generieren\n",
    "# hier kommt euer Code rein"
   ]
  }
 ]
}